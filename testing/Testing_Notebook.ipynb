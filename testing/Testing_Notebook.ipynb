{
 "cells": [
  {
   "cell_type": "code",
   "execution_count": 20,
   "id": "6c1d9ff8-91ea-4642-beae-c8e0c9be7009",
   "metadata": {},
   "outputs": [],
   "source": [
    "import requests\n",
    "import json\n",
    "import sys\n",
    "\n",
    "def kelvin_to_celsius(kelvin):\n",
    "    celsius = round((kelvin - 273.15),2)\n",
    "    return celsius\n",
    "\n",
    "def get_weather(city_name):\n",
    "    \n",
    "    # Make sure to replace 'YOUR_API_KEY' with your actual OpenWeatherMap API key\n",
    "    api_key = '946bde5282fa6afc2181c18cff2be9b0'\n",
    "\n",
    "    url = f\"http://api.openweathermap.org/data/2.5/weather?q={city_name}&APPID={api_key}\"\n",
    "    \n",
    "    # print(url)\n",
    "    try:\n",
    "        response = requests.get(url)\n",
    "        data = json.loads(response.text)\n",
    "\n",
    "        if response.status_code == 200:\n",
    "            weather_data = {\"city_name\": city_name,\n",
    "                            \"temperature\": f\"{kelvin_to_celsius(data['main']['temp'])}°C\",\n",
    "                            \"description\": f\"{data['weather'][0]['description']}\"\n",
    "                           }\n",
    "            \n",
    "            \n",
    "        else:\n",
    "            print(f\"Error: {data['message']}\")\n",
    "    except requests.exceptions.RequestException as e:\n",
    "        print(f\"Error: {str(e)}\")\n",
    "        \n",
    "    return weather_data"
   ]
  },
  {
   "cell_type": "code",
   "execution_count": 21,
   "id": "681ea511-997d-49fe-9e4a-235a6ef126ac",
   "metadata": {},
   "outputs": [
    {
     "name": "stdout",
     "output_type": "stream",
     "text": [
      "Weather forecast for London:\n",
      "Temperature: 290.99°C\n",
      "Description: clear sky\n"
     ]
    }
   ],
   "source": [
    "city_name = \"London\"\n",
    "weather_data = get_weather(city_name)"
   ]
  },
  {
   "cell_type": "code",
   "execution_count": 22,
   "id": "500cfc45-90c1-4fe3-870c-9f50f7a83442",
   "metadata": {},
   "outputs": [
    {
     "data": {
      "text/plain": [
       "{'city_name': 'London', 'temperature': '17.84°C', 'description': 'clear sky'}"
      ]
     },
     "execution_count": 22,
     "metadata": {},
     "output_type": "execute_result"
    }
   ],
   "source": [
    "weather_data"
   ]
  },
  {
   "cell_type": "code",
   "execution_count": null,
   "id": "b65db743-f263-4aff-8b9b-da988ae91099",
   "metadata": {},
   "outputs": [],
   "source": []
  }
 ],
 "metadata": {
  "kernelspec": {
   "display_name": "Python 3 (ipykernel)",
   "language": "python",
   "name": "python3"
  },
  "language_info": {
   "codemirror_mode": {
    "name": "ipython",
    "version": 3
   },
   "file_extension": ".py",
   "mimetype": "text/x-python",
   "name": "python",
   "nbconvert_exporter": "python",
   "pygments_lexer": "ipython3",
   "version": "3.9.12"
  }
 },
 "nbformat": 4,
 "nbformat_minor": 5
}
